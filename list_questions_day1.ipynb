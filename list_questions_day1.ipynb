{
 "cells": [
  {
   "cell_type": "markdown",
   "id": "0bf9beea",
   "metadata": {},
   "source": [
    "# Q- Python program to interchange first and last elements in a list\n",
    "Input : [12, 35, 9, 56, 24]\n",
    "Output : [24, 35, 9, 56, 12]\n",
    "\n",
    "Input : [1, 2, 3]\n",
    "Output : [3, 2, 1]"
   ]
  },
  {
   "cell_type": "code",
   "execution_count": 1,
   "id": "7d887b60",
   "metadata": {},
   "outputs": [
    {
     "name": "stdout",
     "output_type": "stream",
     "text": [
      "[24, 35, 9, 56, 12]\n"
     ]
    }
   ],
   "source": [
    "lit = [12, 35, 9, 56, 24]\n",
    "bit = lit.copy()\n",
    "def interchange(lit):\n",
    "    bit[0]=lit[-1]\n",
    "    bit[-1]=lit[0]\n",
    "    return bit\n",
    "a=interchange(lit)\n",
    "print(a)    "
   ]
  },
  {
   "cell_type": "code",
   "execution_count": 20,
   "id": "975fbf47",
   "metadata": {},
   "outputs": [
    {
     "name": "stdout",
     "output_type": "stream",
     "text": [
      "(12, 24)\n",
      "[12, 35, 9, 56, 24]\n"
     ]
    }
   ],
   "source": [
    "def interchange(lit):\n",
    "    get=lit[-1],lit[0]\n",
    "    lit[0], lit[-1] = get\n",
    "    print(get)\n",
    "    return lit\n",
    "    \n",
    "print(interchange(lit))"
   ]
  },
  {
   "cell_type": "code",
   "execution_count": 26,
   "id": "5ac8e83b",
   "metadata": {},
   "outputs": [
    {
     "name": "stdout",
     "output_type": "stream",
     "text": [
      "[12, 35, 9, 56, 24]\n",
      "[24, 35, 9, 56, 12]\n"
     ]
    }
   ],
   "source": [
    "def swap(lit):\n",
    "    start,*middle,end=lit\n",
    "    lit=[end,*middle,start]\n",
    "    return lit\n",
    "print(lit)\n",
    "print(swap(lit))"
   ]
  },
  {
   "cell_type": "markdown",
   "id": "fb101ddc",
   "metadata": {},
   "source": [
    "# Q- Python program to swap two elements in a list\n",
    "\n",
    "\n",
    "Given a list in Python and provided the positions of the elements, write a program to swap the two elements in the list.\n",
    "Examples: \n",
    " \n",
    "\n",
    "Input : List = [23, 65, 19, 90], pos1 = 1, pos2 = 3\n",
    "Output : [19, 65, 23, 90]\n",
    "\n",
    "Input : List = [1, 2, 3, 4, 5], pos1 = 2, pos2 = 5\n",
    "Output : [1, 5, 3, 4, 2]\n"
   ]
  },
  {
   "cell_type": "code",
   "execution_count": 35,
   "id": "80c84ea1",
   "metadata": {},
   "outputs": [
    {
     "name": "stdout",
     "output_type": "stream",
     "text": [
      "[23, 65, 19, 90]\n",
      "23 19\n",
      "[65, 19]\n",
      "[19, 65, 23, 19]\n"
     ]
    }
   ],
   "source": [
    "List = [23, 65, 19, 90]\n",
    "def swap(lit, pos1, pos2):\n",
    "    print(List)\n",
    "    pos_1=lit[pos1-1]\n",
    "    pos_2=lit[pos2-1]\n",
    "    print(pos_1,pos_2)\n",
    "    List.pop(pos1-1)\n",
    "    List.pop(pos2-1)\n",
    "    print(List)\n",
    "    List.insert(pos1-1,pos_2)\n",
    "    List.insert(pos2-1,pos_1)\n",
    "    \n",
    "    return List\n",
    "print(swap(List,1,3))\n",
    "    "
   ]
  },
  {
   "cell_type": "code",
   "execution_count": 42,
   "id": "e362595a",
   "metadata": {},
   "outputs": [
    {
     "name": "stdout",
     "output_type": "stream",
     "text": [
      "[3, 2, 1, 4]\n"
     ]
    }
   ],
   "source": [
    "def swap(lit,pos1, pos2):\n",
    "    lit[pos1-1], lit[pos2-1] = lit[pos2-1], lit[pos1-1]\n",
    "    return lit\n",
    "lit = [1,2,3,4]\n",
    "print(swap(lit,1,3))"
   ]
  },
  {
   "cell_type": "markdown",
   "id": "13e1423c",
   "metadata": {},
   "source": [
    "# Q- Python – Swap elements in String list\n",
    "The original list is : ['Gfg', 'is', 'best', 'for', 'Geeks']\n",
    "\n",
    "\n",
    "List after performing character swaps : ['efg', 'is', 'bGst', 'for', 'eGGks']"
   ]
  },
  {
   "cell_type": "code",
   "execution_count": 67,
   "id": "68dd44f8",
   "metadata": {},
   "outputs": [
    {
     "name": "stdout",
     "output_type": "stream",
     "text": [
      "['efg', 'is', 'bGst', 'for', 'eGGks']\n"
     ]
    }
   ],
   "source": [
    "str=['Gfg', 'is', 'best', 'for', 'Geeks']\n",
    "res = [sub.replace('G','-').replace('e','G').replace('-','e') for sub in str]\n",
    "print(res)"
   ]
  },
  {
   "cell_type": "code",
   "execution_count": 71,
   "id": "5bcae54b",
   "metadata": {},
   "outputs": [
    {
     "name": "stdout",
     "output_type": "stream",
     "text": [
      "['efg', 'is', 'bGst', 'for', 'eGGks']\n"
     ]
    }
   ],
   "source": [
    "res = \",\".join(str)\n",
    "res=res.replace('G','-').replace('e','G').replace('-','e').split(',')\n",
    "print(res)"
   ]
  },
  {
   "cell_type": "code",
   "execution_count": 52,
   "id": "3e4d90c1",
   "metadata": {},
   "outputs": [
    {
     "name": "stdout",
     "output_type": "stream",
     "text": [
      "gaaks for gaaks gaaks gaaks gaaks\n"
     ]
    }
   ],
   "source": [
    "string = \"geeks for geeks geeks geeks geeks\"\n",
    "  \n",
    "# Prints the string by replacing\n",
    "# e by a\n",
    "print(string.replace(\"e\", \"a\"))"
   ]
  },
  {
   "cell_type": "code",
   "execution_count": null,
   "id": "84698689",
   "metadata": {},
   "outputs": [],
   "source": []
  }
 ],
 "metadata": {
  "kernelspec": {
   "display_name": "Python 3 (ipykernel)",
   "language": "python",
   "name": "python3"
  },
  "language_info": {
   "codemirror_mode": {
    "name": "ipython",
    "version": 3
   },
   "file_extension": ".py",
   "mimetype": "text/x-python",
   "name": "python",
   "nbconvert_exporter": "python",
   "pygments_lexer": "ipython3",
   "version": "3.9.7"
  }
 },
 "nbformat": 4,
 "nbformat_minor": 5
}
