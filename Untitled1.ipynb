{
  "nbformat": 4,
  "nbformat_minor": 0,
  "metadata": {
    "colab": {
      "provenance": [],
      "toc_visible": true
    },
    "kernelspec": {
      "name": "python3",
      "display_name": "Python 3"
    },
    "language_info": {
      "name": "python"
    }
  },
  "cells": [
    {
      "cell_type": "code",
      "execution_count": null,
      "metadata": {
        "id": "VXNs8idALQlI"
      },
      "outputs": [],
      "source": [
        "def romanToInt(s):\n",
        "        \"\"\"\n",
        "        :type s: str\n",
        "        :rtype: int\n",
        "        \"\"\"\n",
        "        d={'I':1,\n",
        "                    'V':5,\n",
        "                   'X':10,\n",
        "                   'L':50,\n",
        "                   'C':100,\n",
        "                   'D':500,\n",
        "                   'M':1000}\n",
        "        prev='I'\n",
        "        result=0\n",
        "        for curr in s[::-1]:\n",
        "            print(\"curr\",curr)\n",
        "            if(d[curr]<d[prev]):\n",
        "                result=result-d[curr]\n",
        "                print(\"1\",result)\n",
        "            else:\n",
        "                print(\"2 start\",result)\n",
        "                print(\"d[prev]\",d[prev])\n",
        "                print(\"prev\",prev)\n",
        "                result=result+d[prev]\n",
        "                print(\"2 end \",result)\n",
        "            prev=curr\n",
        "        return result"
      ]
    },
    {
      "cell_type": "code",
      "source": [
        "a=romanToInt(\"LVIII\")\n",
        "a"
      ],
      "metadata": {
        "colab": {
          "base_uri": "https://localhost:8080/"
        },
        "id": "5RpaQu7oQlg7",
        "outputId": "cd5eebd2-3876-4a26-f2ec-28ffc6fa0ca5"
      },
      "execution_count": null,
      "outputs": [
        {
          "output_type": "stream",
          "name": "stdout",
          "text": [
            "curr I\n",
            "2 start 0\n",
            "d[prev] 1\n",
            "prev I\n",
            "2 end  1\n",
            "curr I\n",
            "2 start 1\n",
            "d[prev] 1\n",
            "prev I\n",
            "2 end  2\n",
            "curr I\n",
            "2 start 2\n",
            "d[prev] 1\n",
            "prev I\n",
            "2 end  3\n",
            "curr V\n",
            "2 start 3\n",
            "d[prev] 1\n",
            "prev I\n",
            "2 end  4\n",
            "curr L\n",
            "2 start 4\n",
            "d[prev] 5\n",
            "prev V\n",
            "2 end  9\n"
          ]
        },
        {
          "output_type": "execute_result",
          "data": {
            "text/plain": [
              "9"
            ]
          },
          "metadata": {},
          "execution_count": 19
        }
      ]
    },
    {
      "cell_type": "code",
      "source": [
        "print(\"hello\")"
      ],
      "metadata": {
        "colab": {
          "base_uri": "https://localhost:8080/"
        },
        "id": "0fgiTv1CQqam",
        "outputId": "82d09a2d-3980-4afd-a1d6-c4fc05d09be9"
      },
      "execution_count": 1,
      "outputs": [
        {
          "output_type": "stream",
          "name": "stdout",
          "text": [
            "hello\n"
          ]
        }
      ]
    },
    {
      "cell_type": "code",
      "source": [
        "list1 = [1,2,3,4,5]\n"
      ],
      "metadata": {
        "id": "kRq0wADOTECJ"
      },
      "execution_count": 6,
      "outputs": []
    },
    {
      "cell_type": "code",
      "source": [
        "sum(list1)"
      ],
      "metadata": {
        "colab": {
          "base_uri": "https://localhost:8080/"
        },
        "id": "CXsMfCXYEMK0",
        "outputId": "8b979127-0514-4fa4-bae3-3fc7dd573551"
      },
      "execution_count": 7,
      "outputs": [
        {
          "output_type": "execute_result",
          "data": {
            "text/plain": [
              "15"
            ]
          },
          "metadata": {},
          "execution_count": 7
        }
      ]
    },
    {
      "cell_type": "code",
      "source": [
        "def sum_of_number(list1):\n",
        "  result=0\n",
        "  for item in list1:\n",
        "    result+=item\n",
        "  \n",
        "  return result"
      ],
      "metadata": {
        "id": "7k38SUBNENlb"
      },
      "execution_count": 8,
      "outputs": []
    },
    {
      "cell_type": "code",
      "source": [
        "sum1=sum_of_number(list1)\n",
        "sum1"
      ],
      "metadata": {
        "colab": {
          "base_uri": "https://localhost:8080/"
        },
        "id": "fIDrqdkKEwGA",
        "outputId": "c354573a-d298-4f48-97e9-0f07f0954720"
      },
      "execution_count": 10,
      "outputs": [
        {
          "output_type": "execute_result",
          "data": {
            "text/plain": [
              "15"
            ]
          },
          "metadata": {},
          "execution_count": 10
        }
      ]
    },
    {
      "cell_type": "code",
      "source": [
        "def interchange_item(list1):\n",
        "  first = list1[0]\n",
        "  last=list1[-1]\n",
        "  new_list=[]\n",
        "  list1.remove\n",
        "  temp=list1[0]\n",
        "  size=len(list1)\n",
        "  list1[0]=list1[size-1]\n",
        "  list1[size-1]=temp\n",
        "  return list1\n",
        "interchange_item(list1) "
      ],
      "metadata": {
        "colab": {
          "base_uri": "https://localhost:8080/"
        },
        "id": "yQpz-OHoEyfr",
        "outputId": "6bd327ec-4d03-4b42-c782-aa565cbd1f92"
      },
      "execution_count": 12,
      "outputs": [
        {
          "output_type": "execute_result",
          "data": {
            "text/plain": [
              "[1, 2, 3, 4, 5]"
            ]
          },
          "metadata": {},
          "execution_count": 12
        }
      ]
    },
    {
      "cell_type": "code",
      "source": [
        "# Python program to check whether the string is Symmetrical or Palindrome\n",
        "string1 = \"khokho\"\n",
        "string2 = \"armmra\"\n",
        "def palindrome(string):\n",
        "  mid=(len(string)-1)//2\n",
        "  start=0\n",
        "  flag=0\n",
        "  last=len(string)-1\n",
        "  while(start<=mid):\n",
        "    if string[start]==string[last]:\n",
        "      start+=1\n",
        "      last-=1\n",
        "    else:\n",
        "      flag=1\n",
        "      break\n",
        "\n",
        "  if flag==0:\n",
        "    print(\"palindrome\")\n",
        "  else:\n",
        "    print(\"Not a Palindrome\")\n",
        "\n",
        "def symmetrical(string):\n",
        "  mid=(len(string)-1)//2\n",
        "  start=0\n",
        "  last=len(string)\n",
        "  if mid%2==0:\n",
        "    mid+=1\n",
        "  start1=0\n",
        "  start2=mid\n",
        "  flag=0\n",
        "  while(start1<mid and start2<last):\n",
        "    if(string[start1]==string[start2]):\n",
        "      start1+=1\n",
        "      start2+=1\n",
        "    else:\n",
        "      flag=1\n",
        "      break\n",
        "  if flag==0:\n",
        "    print(\"Symnetric\")\n",
        "  else:\n",
        "    print(\"Not a Symmetric\")\n",
        "symmetrical(string2)\n",
        "\n",
        "\n",
        "\n",
        "palindrome(string1)"
      ],
      "metadata": {
        "colab": {
          "base_uri": "https://localhost:8080/"
        },
        "id": "GomVrCMeG_H1",
        "outputId": "5acc44d2-f03c-4eca-b4e5-2f3d94dab378"
      },
      "execution_count": 21,
      "outputs": [
        {
          "output_type": "stream",
          "name": "stdout",
          "text": [
            "Not a Symmetric\n",
            "Not a Palindrome\n"
          ]
        }
      ]
    },
    {
      "cell_type": "code",
      "source": [],
      "metadata": {
        "id": "yrStdDuVLAJn"
      },
      "execution_count": null,
      "outputs": []
    }
  ]
}