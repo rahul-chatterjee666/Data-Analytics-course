{
  "nbformat": 4,
  "nbformat_minor": 0,
  "metadata": {
    "colab": {
      "provenance": []
    },
    "kernelspec": {
      "name": "python3",
      "display_name": "Python 3"
    },
    "language_info": {
      "name": "python"
    }
  },
  "cells": [
    {
      "cell_type": "code",
      "execution_count": 1,
      "metadata": {
        "id": "4GeoAewQVVV5"
      },
      "outputs": [],
      "source": [
        "#Write a Pandas program to create and display a one-dimensional array-like object containing an array of data using Pandas module\n",
        "import pandas as pd\n",
        "import math\n",
        "import numpy as np"
      ]
    },
    {
      "cell_type": "code",
      "source": [
        "a=pd.Series([1,12,2,3,3,4,1])\n",
        "a"
      ],
      "metadata": {
        "colab": {
          "base_uri": "https://localhost:8080/"
        },
        "id": "ToHbDNTZWT9M",
        "outputId": "16d87010-d66e-4d5c-b711-1316a4fb7456"
      },
      "execution_count": 7,
      "outputs": [
        {
          "output_type": "execute_result",
          "data": {
            "text/plain": [
              "0     1\n",
              "1    12\n",
              "2     2\n",
              "3     3\n",
              "4     3\n",
              "5     4\n",
              "6     1\n",
              "dtype: int64"
            ]
          },
          "metadata": {},
          "execution_count": 7
        }
      ]
    },
    {
      "cell_type": "code",
      "source": [
        "#Write a Pandas program to convert a Panda module Series to Python list and it’s type.\n",
        "list_b=list(a)\n",
        "# type(list_b)\n",
        "list_c=a.tolist()\n",
        "print(type(list_c))"
      ],
      "metadata": {
        "colab": {
          "base_uri": "https://localhost:8080/"
        },
        "id": "DOPu7qLIWmwj",
        "outputId": "1ade2f5b-6a75-45c6-c74f-20b91752dfc9"
      },
      "execution_count": 16,
      "outputs": [
        {
          "output_type": "stream",
          "name": "stdout",
          "text": [
            "<class 'list'>\n"
          ]
        }
      ]
    },
    {
      "cell_type": "code",
      "source": [
        "#Write a Pandas program to add, subtract, multiple and divide,,compare,smaller,bigger  two Pandas Series\n",
        "a=pd.Series([2, 4, 6, 8, 10])\n",
        "b=pd.Series([1, 3, 5, 7, 9])\n",
        "c=a+b\n",
        "d=a-b\n",
        "e=a*b\n",
        "f=a/b\n",
        "g=a//b\n",
        "print(a<b)"
      ],
      "metadata": {
        "colab": {
          "base_uri": "https://localhost:8080/"
        },
        "id": "rpO_kwFXXQBn",
        "outputId": "4ad9fa01-eaa2-4559-931c-6b4212108de6"
      },
      "execution_count": 27,
      "outputs": [
        {
          "output_type": "stream",
          "name": "stdout",
          "text": [
            "0    False\n",
            "1    False\n",
            "2    False\n",
            "3    False\n",
            "4    False\n",
            "dtype: bool\n"
          ]
        }
      ]
    },
    {
      "cell_type": "code",
      "source": [],
      "metadata": {
        "id": "MMueZvd3X24h"
      },
      "execution_count": null,
      "outputs": []
    }
  ]
}