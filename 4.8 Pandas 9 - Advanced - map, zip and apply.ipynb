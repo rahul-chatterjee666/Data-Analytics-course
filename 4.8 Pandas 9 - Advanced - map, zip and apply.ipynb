{
 "cells": [
  {
   "cell_type": "markdown",
   "metadata": {
    "colab_type": "text",
    "id": "rwPPmYl7FtnD"
   },
   "source": [
    "#Learn to use Map(), Zip() and Apply()"
   ]
  },
  {
   "cell_type": "markdown",
   "metadata": {
    "colab_type": "text",
    "id": "rh5F6I69latY"
   },
   "source": [
    "Let's start with map().\n",
    "\n",
    "map() is a Python funtion that can be used to apply another function to a list or dictiony. "
   ]
  },
  {
   "cell_type": "code",
   "execution_count": 0,
   "metadata": {
    "colab": {},
    "colab_type": "code",
    "id": "JsFHlzsaFwmS"
   },
   "outputs": [],
   "source": [
    "numbers = [5, 2, 7, 3, 4, 6, 8, 1]\n",
    "\n",
    "# Let's make a function that caculates squares\n",
    "def square_number(x): \n",
    "    return x**2"
   ]
  },
  {
   "cell_type": "code",
   "execution_count": 2,
   "metadata": {
    "colab": {
     "base_uri": "https://localhost:8080/",
     "height": 35
    },
    "colab_type": "code",
    "executionInfo": {
     "elapsed": 691,
     "status": "ok",
     "timestamp": 1573654979986,
     "user": {
      "displayName": "Rajeev Ratan",
      "photoUrl": "https://lh3.googleusercontent.com/a-/AAuE7mCGo6aIm0tOcd5EhqWlYb0rime9sBvHS9YMpx0D2w=s64",
      "userId": "08597265227091462140"
     },
     "user_tz": 0
    },
    "id": "so2y5MXUmg5w",
    "outputId": "7d337130-91f9-4cc3-cd9d-20f49c8bdb6b"
   },
   "outputs": [
    {
     "name": "stdout",
     "output_type": "stream",
     "text": [
      "Non-Pythonic Approach:  [25, 4, 49, 9, 16, 36, 64, 1]\n"
     ]
    }
   ],
   "source": [
    "# A non-pythonic approach is using a for loop to iterate over each element in our list and append the result to our squares list\n",
    "squares = []\n",
    "for num in numbers:\n",
    "    squares.append(square_number(num))\n",
    "print('Non-Pythonic Approach: ', squares)"
   ]
  },
  {
   "cell_type": "code",
   "execution_count": 3,
   "metadata": {
    "colab": {
     "base_uri": "https://localhost:8080/",
     "height": 35
    },
    "colab_type": "code",
    "executionInfo": {
     "elapsed": 895,
     "status": "ok",
     "timestamp": 1573655004292,
     "user": {
      "displayName": "Rajeev Ratan",
      "photoUrl": "https://lh3.googleusercontent.com/a-/AAuE7mCGo6aIm0tOcd5EhqWlYb0rime9sBvHS9YMpx0D2w=s64",
      "userId": "08597265227091462140"
     },
     "user_tz": 0
    },
    "id": "DV31kAqbmhBk",
    "outputId": "69296afb-d410-47b4-f262-2a7c2f382204"
   },
   "outputs": [
    {
     "name": "stdout",
     "output_type": "stream",
     "text": [
      "Pythonic Approach:  [25, 4, 49, 9, 16, 36, 64, 1]\n"
     ]
    }
   ],
   "source": [
    "# A pythonic approach would be to use Map. It takes the function and the list as its input arguments.\n",
    "x = map(square_number, numbers)\n",
    "print('Pythonic Approach: ', list(x))"
   ]
  },
  {
   "cell_type": "markdown",
   "metadata": {
    "colab_type": "text",
    "id": "etzvSgmcmuxr"
   },
   "source": [
    "# Let's now explore zip()"
   ]
  },
  {
   "cell_type": "code",
   "execution_count": 4,
   "metadata": {
    "colab": {
     "base_uri": "https://localhost:8080/",
     "height": 106
    },
    "colab_type": "code",
    "executionInfo": {
     "elapsed": 575,
     "status": "ok",
     "timestamp": 1573655030106,
     "user": {
      "displayName": "Rajeev Ratan",
      "photoUrl": "https://lh3.googleusercontent.com/a-/AAuE7mCGo6aIm0tOcd5EhqWlYb0rime9sBvHS9YMpx0D2w=s64",
      "userId": "08597265227091462140"
     },
     "user_tz": 0
    },
    "id": "QyFBD3okFiq2",
    "outputId": "d392dfaf-ba9f-443f-df35-248bc23f9386"
   },
   "outputs": [
    {
     "name": "stdout",
     "output_type": "stream",
     "text": [
      "5 3\n",
      "2 8\n",
      "7 6\n",
      "3 8\n",
      "4 1\n"
     ]
    }
   ],
   "source": [
    "a = [5, 2, 7, 3, 4]\n",
    "b = [3, 8, 6, 8, 1]\n",
    "\n",
    "# Iterate over two or more lists simultaneously\n",
    "for x, y in zip(a, b):\n",
    "    print(x,y)"
   ]
  },
  {
   "cell_type": "markdown",
   "metadata": {
    "colab_type": "text",
    "id": "7bkQ_jgymzKf"
   },
   "source": [
    "# Now let's look at filter().\n",
    "Filter takes a function and a sequence (list or dictionarty) as its input and works similarly to **map** however, filter only stores the elements that were evaluated to be **True**"
   ]
  },
  {
   "cell_type": "code",
   "execution_count": 0,
   "metadata": {
    "colab": {},
    "colab_type": "code",
    "id": "47jOWtUrFj-O"
   },
   "outputs": [],
   "source": [
    "numbers = [5, 2, 7, 3, 4, 6, 8, 1, 9, 0, 10]\n",
    "\n",
    "# Will return true if input number is even\n",
    "def isEven(x):\n",
    "    return x % 2 == 0"
   ]
  },
  {
   "cell_type": "code",
   "execution_count": 6,
   "metadata": {
    "colab": {
     "base_uri": "https://localhost:8080/",
     "height": 35
    },
    "colab_type": "code",
    "executionInfo": {
     "elapsed": 668,
     "status": "ok",
     "timestamp": 1573655097524,
     "user": {
      "displayName": "Rajeev Ratan",
      "photoUrl": "https://lh3.googleusercontent.com/a-/AAuE7mCGo6aIm0tOcd5EhqWlYb0rime9sBvHS9YMpx0D2w=s64",
      "userId": "08597265227091462140"
     },
     "user_tz": 0
    },
    "id": "1br8gVgGnDMV",
    "outputId": "06e34880-ed4c-4db9-f817-30f4fe6157f9"
   },
   "outputs": [
    {
     "name": "stdout",
     "output_type": "stream",
     "text": [
      "Non-Pythonic Approach:  [2, 4, 6, 8, 0, 10]\n"
     ]
    }
   ],
   "source": [
    "# A non-pythonic approach would be to use a for loop with an if statement inside\n",
    "even_numbers = []\n",
    "for num in numbers:\n",
    "    if isEven(num):\n",
    "        even_numbers.append(num)\n",
    "print('Non-Pythonic Approach: ', even_numbers)"
   ]
  },
  {
   "cell_type": "code",
   "execution_count": 7,
   "metadata": {
    "colab": {
     "base_uri": "https://localhost:8080/",
     "height": 35
    },
    "colab_type": "code",
    "executionInfo": {
     "elapsed": 728,
     "status": "ok",
     "timestamp": 1573655142809,
     "user": {
      "displayName": "Rajeev Ratan",
      "photoUrl": "https://lh3.googleusercontent.com/a-/AAuE7mCGo6aIm0tOcd5EhqWlYb0rime9sBvHS9YMpx0D2w=s64",
      "userId": "08597265227091462140"
     },
     "user_tz": 0
    },
    "id": "6aAjiIybnFbh",
    "outputId": "19b864d6-5da7-419e-c119-80b7b677324a"
   },
   "outputs": [
    {
     "name": "stdout",
     "output_type": "stream",
     "text": [
      "Pythonic Approach:  [2, 4, 6, 8, 0, 10]\n"
     ]
    }
   ],
   "source": [
    "# A pythonic approach would be to use filter()\n",
    "even_numbers = filter(isEven, numbers)\n",
    "print('Pythonic Approach: ', list(even_numbers))"
   ]
  },
  {
   "cell_type": "code",
   "execution_count": 0,
   "metadata": {
    "colab": {},
    "colab_type": "code",
    "id": "wJ_OXr4IJ93m"
   },
   "outputs": [],
   "source": []
  }
 ],
 "metadata": {
  "colab": {
   "collapsed_sections": [],
   "name": "4.8 Pandas 9 - Advanced - map, zip and apply.ipynb",
   "provenance": []
  },
  "kernelspec": {
   "display_name": "Python 3 (ipykernel)",
   "language": "python",
   "name": "python3"
  },
  "language_info": {
   "codemirror_mode": {
    "name": "ipython",
    "version": 3
   },
   "file_extension": ".py",
   "mimetype": "text/x-python",
   "name": "python",
   "nbconvert_exporter": "python",
   "pygments_lexer": "ipython3",
   "version": "3.9.6"
  }
 },
 "nbformat": 4,
 "nbformat_minor": 1
}
